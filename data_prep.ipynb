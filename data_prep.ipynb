{
 "cells": [
  {
   "cell_type": "code",
   "execution_count": 14,
   "metadata": {},
   "outputs": [],
   "source": [
    "import pandas as pd"
   ]
  },
  {
   "cell_type": "code",
   "execution_count": 41,
   "metadata": {},
   "outputs": [
    {
     "data": {
      "text/html": [
       "<div>\n",
       "<style scoped>\n",
       "    .dataframe tbody tr th:only-of-type {\n",
       "        vertical-align: middle;\n",
       "    }\n",
       "\n",
       "    .dataframe tbody tr th {\n",
       "        vertical-align: top;\n",
       "    }\n",
       "\n",
       "    .dataframe thead th {\n",
       "        text-align: right;\n",
       "    }\n",
       "</style>\n",
       "<table border=\"1\" class=\"dataframe\">\n",
       "  <thead>\n",
       "    <tr style=\"text-align: right;\">\n",
       "      <th></th>\n",
       "      <th>fraud_bool</th>\n",
       "      <th>income</th>\n",
       "      <th>name_email_similarity</th>\n",
       "      <th>prev_address_months_count</th>\n",
       "      <th>current_address_months_count</th>\n",
       "      <th>customer_age</th>\n",
       "      <th>days_since_request</th>\n",
       "      <th>intended_balcon_amount</th>\n",
       "      <th>payment_type</th>\n",
       "      <th>zip_count_4w</th>\n",
       "      <th>...</th>\n",
       "      <th>has_other_cards</th>\n",
       "      <th>proposed_credit_limit</th>\n",
       "      <th>foreign_request</th>\n",
       "      <th>source</th>\n",
       "      <th>session_length_in_minutes</th>\n",
       "      <th>device_os</th>\n",
       "      <th>keep_alive_session</th>\n",
       "      <th>device_distinct_emails_8w</th>\n",
       "      <th>device_fraud_count</th>\n",
       "      <th>month</th>\n",
       "    </tr>\n",
       "  </thead>\n",
       "  <tbody>\n",
       "    <tr>\n",
       "      <th>0</th>\n",
       "      <td>0</td>\n",
       "      <td>0.3</td>\n",
       "      <td>0.986506</td>\n",
       "      <td>-1</td>\n",
       "      <td>25</td>\n",
       "      <td>40</td>\n",
       "      <td>0.006735</td>\n",
       "      <td>102.453711</td>\n",
       "      <td>AA</td>\n",
       "      <td>1059</td>\n",
       "      <td>...</td>\n",
       "      <td>0</td>\n",
       "      <td>1500.0</td>\n",
       "      <td>0</td>\n",
       "      <td>INTERNET</td>\n",
       "      <td>16.224843</td>\n",
       "      <td>linux</td>\n",
       "      <td>1</td>\n",
       "      <td>1</td>\n",
       "      <td>0</td>\n",
       "      <td>0</td>\n",
       "    </tr>\n",
       "    <tr>\n",
       "      <th>1</th>\n",
       "      <td>0</td>\n",
       "      <td>0.8</td>\n",
       "      <td>0.617426</td>\n",
       "      <td>-1</td>\n",
       "      <td>89</td>\n",
       "      <td>20</td>\n",
       "      <td>0.010095</td>\n",
       "      <td>-0.849551</td>\n",
       "      <td>AD</td>\n",
       "      <td>1658</td>\n",
       "      <td>...</td>\n",
       "      <td>0</td>\n",
       "      <td>1500.0</td>\n",
       "      <td>0</td>\n",
       "      <td>INTERNET</td>\n",
       "      <td>3.363854</td>\n",
       "      <td>other</td>\n",
       "      <td>1</td>\n",
       "      <td>1</td>\n",
       "      <td>0</td>\n",
       "      <td>0</td>\n",
       "    </tr>\n",
       "    <tr>\n",
       "      <th>2</th>\n",
       "      <td>0</td>\n",
       "      <td>0.8</td>\n",
       "      <td>0.996707</td>\n",
       "      <td>9</td>\n",
       "      <td>14</td>\n",
       "      <td>40</td>\n",
       "      <td>0.012316</td>\n",
       "      <td>-1.490386</td>\n",
       "      <td>AB</td>\n",
       "      <td>1095</td>\n",
       "      <td>...</td>\n",
       "      <td>0</td>\n",
       "      <td>200.0</td>\n",
       "      <td>0</td>\n",
       "      <td>INTERNET</td>\n",
       "      <td>22.730559</td>\n",
       "      <td>windows</td>\n",
       "      <td>0</td>\n",
       "      <td>1</td>\n",
       "      <td>0</td>\n",
       "      <td>0</td>\n",
       "    </tr>\n",
       "    <tr>\n",
       "      <th>3</th>\n",
       "      <td>0</td>\n",
       "      <td>0.6</td>\n",
       "      <td>0.475100</td>\n",
       "      <td>11</td>\n",
       "      <td>14</td>\n",
       "      <td>30</td>\n",
       "      <td>0.006991</td>\n",
       "      <td>-1.863101</td>\n",
       "      <td>AB</td>\n",
       "      <td>3483</td>\n",
       "      <td>...</td>\n",
       "      <td>0</td>\n",
       "      <td>200.0</td>\n",
       "      <td>0</td>\n",
       "      <td>INTERNET</td>\n",
       "      <td>15.215816</td>\n",
       "      <td>linux</td>\n",
       "      <td>1</td>\n",
       "      <td>1</td>\n",
       "      <td>0</td>\n",
       "      <td>0</td>\n",
       "    </tr>\n",
       "    <tr>\n",
       "      <th>4</th>\n",
       "      <td>0</td>\n",
       "      <td>0.9</td>\n",
       "      <td>0.842307</td>\n",
       "      <td>-1</td>\n",
       "      <td>29</td>\n",
       "      <td>40</td>\n",
       "      <td>5.742626</td>\n",
       "      <td>47.152498</td>\n",
       "      <td>AA</td>\n",
       "      <td>2339</td>\n",
       "      <td>...</td>\n",
       "      <td>0</td>\n",
       "      <td>200.0</td>\n",
       "      <td>0</td>\n",
       "      <td>INTERNET</td>\n",
       "      <td>3.743048</td>\n",
       "      <td>other</td>\n",
       "      <td>0</td>\n",
       "      <td>1</td>\n",
       "      <td>0</td>\n",
       "      <td>0</td>\n",
       "    </tr>\n",
       "    <tr>\n",
       "      <th>...</th>\n",
       "      <td>...</td>\n",
       "      <td>...</td>\n",
       "      <td>...</td>\n",
       "      <td>...</td>\n",
       "      <td>...</td>\n",
       "      <td>...</td>\n",
       "      <td>...</td>\n",
       "      <td>...</td>\n",
       "      <td>...</td>\n",
       "      <td>...</td>\n",
       "      <td>...</td>\n",
       "      <td>...</td>\n",
       "      <td>...</td>\n",
       "      <td>...</td>\n",
       "      <td>...</td>\n",
       "      <td>...</td>\n",
       "      <td>...</td>\n",
       "      <td>...</td>\n",
       "      <td>...</td>\n",
       "      <td>...</td>\n",
       "      <td>...</td>\n",
       "    </tr>\n",
       "    <tr>\n",
       "      <th>999995</th>\n",
       "      <td>0</td>\n",
       "      <td>0.8</td>\n",
       "      <td>0.124690</td>\n",
       "      <td>-1</td>\n",
       "      <td>143</td>\n",
       "      <td>30</td>\n",
       "      <td>0.051348</td>\n",
       "      <td>-0.826239</td>\n",
       "      <td>AB</td>\n",
       "      <td>530</td>\n",
       "      <td>...</td>\n",
       "      <td>0</td>\n",
       "      <td>1500.0</td>\n",
       "      <td>0</td>\n",
       "      <td>INTERNET</td>\n",
       "      <td>16.967770</td>\n",
       "      <td>other</td>\n",
       "      <td>0</td>\n",
       "      <td>1</td>\n",
       "      <td>0</td>\n",
       "      <td>7</td>\n",
       "    </tr>\n",
       "    <tr>\n",
       "      <th>999996</th>\n",
       "      <td>0</td>\n",
       "      <td>0.9</td>\n",
       "      <td>0.824544</td>\n",
       "      <td>-1</td>\n",
       "      <td>193</td>\n",
       "      <td>30</td>\n",
       "      <td>0.009591</td>\n",
       "      <td>0.008307</td>\n",
       "      <td>AC</td>\n",
       "      <td>408</td>\n",
       "      <td>...</td>\n",
       "      <td>1</td>\n",
       "      <td>1000.0</td>\n",
       "      <td>0</td>\n",
       "      <td>INTERNET</td>\n",
       "      <td>1.504109</td>\n",
       "      <td>macintosh</td>\n",
       "      <td>0</td>\n",
       "      <td>1</td>\n",
       "      <td>0</td>\n",
       "      <td>7</td>\n",
       "    </tr>\n",
       "    <tr>\n",
       "      <th>999997</th>\n",
       "      <td>0</td>\n",
       "      <td>0.8</td>\n",
       "      <td>0.140891</td>\n",
       "      <td>-1</td>\n",
       "      <td>202</td>\n",
       "      <td>10</td>\n",
       "      <td>0.059287</td>\n",
       "      <td>50.609995</td>\n",
       "      <td>AA</td>\n",
       "      <td>749</td>\n",
       "      <td>...</td>\n",
       "      <td>0</td>\n",
       "      <td>200.0</td>\n",
       "      <td>0</td>\n",
       "      <td>INTERNET</td>\n",
       "      <td>16.068595</td>\n",
       "      <td>other</td>\n",
       "      <td>0</td>\n",
       "      <td>1</td>\n",
       "      <td>0</td>\n",
       "      <td>7</td>\n",
       "    </tr>\n",
       "    <tr>\n",
       "      <th>999998</th>\n",
       "      <td>0</td>\n",
       "      <td>0.9</td>\n",
       "      <td>0.002480</td>\n",
       "      <td>52</td>\n",
       "      <td>3</td>\n",
       "      <td>30</td>\n",
       "      <td>0.023357</td>\n",
       "      <td>-1.313387</td>\n",
       "      <td>AB</td>\n",
       "      <td>707</td>\n",
       "      <td>...</td>\n",
       "      <td>0</td>\n",
       "      <td>200.0</td>\n",
       "      <td>0</td>\n",
       "      <td>INTERNET</td>\n",
       "      <td>1.378683</td>\n",
       "      <td>linux</td>\n",
       "      <td>1</td>\n",
       "      <td>1</td>\n",
       "      <td>0</td>\n",
       "      <td>7</td>\n",
       "    </tr>\n",
       "    <tr>\n",
       "      <th>999999</th>\n",
       "      <td>0</td>\n",
       "      <td>0.6</td>\n",
       "      <td>0.993391</td>\n",
       "      <td>-1</td>\n",
       "      <td>174</td>\n",
       "      <td>30</td>\n",
       "      <td>0.020422</td>\n",
       "      <td>14.942456</td>\n",
       "      <td>AA</td>\n",
       "      <td>655</td>\n",
       "      <td>...</td>\n",
       "      <td>1</td>\n",
       "      <td>200.0</td>\n",
       "      <td>0</td>\n",
       "      <td>INTERNET</td>\n",
       "      <td>1.947926</td>\n",
       "      <td>other</td>\n",
       "      <td>1</td>\n",
       "      <td>1</td>\n",
       "      <td>0</td>\n",
       "      <td>7</td>\n",
       "    </tr>\n",
       "  </tbody>\n",
       "</table>\n",
       "<p>1000000 rows × 32 columns</p>\n",
       "</div>"
      ],
      "text/plain": [
       "        fraud_bool  income  name_email_similarity  prev_address_months_count  \\\n",
       "0                0     0.3               0.986506                         -1   \n",
       "1                0     0.8               0.617426                         -1   \n",
       "2                0     0.8               0.996707                          9   \n",
       "3                0     0.6               0.475100                         11   \n",
       "4                0     0.9               0.842307                         -1   \n",
       "...            ...     ...                    ...                        ...   \n",
       "999995           0     0.8               0.124690                         -1   \n",
       "999996           0     0.9               0.824544                         -1   \n",
       "999997           0     0.8               0.140891                         -1   \n",
       "999998           0     0.9               0.002480                         52   \n",
       "999999           0     0.6               0.993391                         -1   \n",
       "\n",
       "        current_address_months_count  customer_age  days_since_request  \\\n",
       "0                                 25            40            0.006735   \n",
       "1                                 89            20            0.010095   \n",
       "2                                 14            40            0.012316   \n",
       "3                                 14            30            0.006991   \n",
       "4                                 29            40            5.742626   \n",
       "...                              ...           ...                 ...   \n",
       "999995                           143            30            0.051348   \n",
       "999996                           193            30            0.009591   \n",
       "999997                           202            10            0.059287   \n",
       "999998                             3            30            0.023357   \n",
       "999999                           174            30            0.020422   \n",
       "\n",
       "        intended_balcon_amount payment_type  zip_count_4w  ...  \\\n",
       "0                   102.453711           AA          1059  ...   \n",
       "1                    -0.849551           AD          1658  ...   \n",
       "2                    -1.490386           AB          1095  ...   \n",
       "3                    -1.863101           AB          3483  ...   \n",
       "4                    47.152498           AA          2339  ...   \n",
       "...                        ...          ...           ...  ...   \n",
       "999995               -0.826239           AB           530  ...   \n",
       "999996                0.008307           AC           408  ...   \n",
       "999997               50.609995           AA           749  ...   \n",
       "999998               -1.313387           AB           707  ...   \n",
       "999999               14.942456           AA           655  ...   \n",
       "\n",
       "        has_other_cards  proposed_credit_limit  foreign_request    source  \\\n",
       "0                     0                 1500.0                0  INTERNET   \n",
       "1                     0                 1500.0                0  INTERNET   \n",
       "2                     0                  200.0                0  INTERNET   \n",
       "3                     0                  200.0                0  INTERNET   \n",
       "4                     0                  200.0                0  INTERNET   \n",
       "...                 ...                    ...              ...       ...   \n",
       "999995                0                 1500.0                0  INTERNET   \n",
       "999996                1                 1000.0                0  INTERNET   \n",
       "999997                0                  200.0                0  INTERNET   \n",
       "999998                0                  200.0                0  INTERNET   \n",
       "999999                1                  200.0                0  INTERNET   \n",
       "\n",
       "        session_length_in_minutes  device_os  keep_alive_session  \\\n",
       "0                       16.224843      linux                   1   \n",
       "1                        3.363854      other                   1   \n",
       "2                       22.730559    windows                   0   \n",
       "3                       15.215816      linux                   1   \n",
       "4                        3.743048      other                   0   \n",
       "...                           ...        ...                 ...   \n",
       "999995                  16.967770      other                   0   \n",
       "999996                   1.504109  macintosh                   0   \n",
       "999997                  16.068595      other                   0   \n",
       "999998                   1.378683      linux                   1   \n",
       "999999                   1.947926      other                   1   \n",
       "\n",
       "        device_distinct_emails_8w device_fraud_count  month  \n",
       "0                               1                  0      0  \n",
       "1                               1                  0      0  \n",
       "2                               1                  0      0  \n",
       "3                               1                  0      0  \n",
       "4                               1                  0      0  \n",
       "...                           ...                ...    ...  \n",
       "999995                          1                  0      7  \n",
       "999996                          1                  0      7  \n",
       "999997                          1                  0      7  \n",
       "999998                          1                  0      7  \n",
       "999999                          1                  0      7  \n",
       "\n",
       "[1000000 rows x 32 columns]"
      ]
     },
     "execution_count": 41,
     "metadata": {},
     "output_type": "execute_result"
    }
   ],
   "source": [
    "path = \"./Resources/sample_base.csv\"\n",
    "fraud_df = pd.read_csv(path,header='infer',index_col=None)\n",
    "fraud_df"
   ]
  },
  {
   "cell_type": "code",
   "execution_count": 43,
   "metadata": {},
   "outputs": [
    {
     "data": {
      "text/html": [
       "<div>\n",
       "<style scoped>\n",
       "    .dataframe tbody tr th:only-of-type {\n",
       "        vertical-align: middle;\n",
       "    }\n",
       "\n",
       "    .dataframe tbody tr th {\n",
       "        vertical-align: top;\n",
       "    }\n",
       "\n",
       "    .dataframe thead th {\n",
       "        text-align: right;\n",
       "    }\n",
       "</style>\n",
       "<table border=\"1\" class=\"dataframe\">\n",
       "  <thead>\n",
       "    <tr style=\"text-align: right;\">\n",
       "      <th></th>\n",
       "      <th>fraud_bool</th>\n",
       "      <th>income</th>\n",
       "      <th>name_email_similarity</th>\n",
       "      <th>prev_address_months_count</th>\n",
       "      <th>current_address_months_count</th>\n",
       "      <th>customer_age</th>\n",
       "      <th>days_since_request</th>\n",
       "      <th>intended_balcon_amount</th>\n",
       "      <th>payment_type</th>\n",
       "      <th>zip_count_4w</th>\n",
       "      <th>...</th>\n",
       "      <th>has_other_cards</th>\n",
       "      <th>proposed_credit_limit</th>\n",
       "      <th>foreign_request</th>\n",
       "      <th>source</th>\n",
       "      <th>session_length_in_minutes</th>\n",
       "      <th>device_os</th>\n",
       "      <th>keep_alive_session</th>\n",
       "      <th>device_distinct_emails_8w</th>\n",
       "      <th>device_fraud_count</th>\n",
       "      <th>month</th>\n",
       "    </tr>\n",
       "  </thead>\n",
       "  <tbody>\n",
       "    <tr>\n",
       "      <th>0</th>\n",
       "      <td>0</td>\n",
       "      <td>0.1</td>\n",
       "      <td>0.771248</td>\n",
       "      <td>-1</td>\n",
       "      <td>192</td>\n",
       "      <td>20</td>\n",
       "      <td>0.008449</td>\n",
       "      <td>-1.050951</td>\n",
       "      <td>AB</td>\n",
       "      <td>2570</td>\n",
       "      <td>...</td>\n",
       "      <td>0</td>\n",
       "      <td>1500.0</td>\n",
       "      <td>0</td>\n",
       "      <td>INTERNET</td>\n",
       "      <td>37.831889</td>\n",
       "      <td>windows</td>\n",
       "      <td>0</td>\n",
       "      <td>1</td>\n",
       "      <td>0</td>\n",
       "      <td>2</td>\n",
       "    </tr>\n",
       "    <tr>\n",
       "      <th>1</th>\n",
       "      <td>0</td>\n",
       "      <td>0.9</td>\n",
       "      <td>0.868609</td>\n",
       "      <td>-1</td>\n",
       "      <td>8</td>\n",
       "      <td>30</td>\n",
       "      <td>0.003503</td>\n",
       "      <td>-0.683337</td>\n",
       "      <td>AB</td>\n",
       "      <td>1081</td>\n",
       "      <td>...</td>\n",
       "      <td>1</td>\n",
       "      <td>200.0</td>\n",
       "      <td>0</td>\n",
       "      <td>INTERNET</td>\n",
       "      <td>1.610226</td>\n",
       "      <td>linux</td>\n",
       "      <td>1</td>\n",
       "      <td>1</td>\n",
       "      <td>0</td>\n",
       "      <td>6</td>\n",
       "    </tr>\n",
       "    <tr>\n",
       "      <th>2</th>\n",
       "      <td>0</td>\n",
       "      <td>0.6</td>\n",
       "      <td>0.461974</td>\n",
       "      <td>30</td>\n",
       "      <td>8</td>\n",
       "      <td>30</td>\n",
       "      <td>0.006326</td>\n",
       "      <td>-0.916832</td>\n",
       "      <td>AB</td>\n",
       "      <td>2162</td>\n",
       "      <td>...</td>\n",
       "      <td>0</td>\n",
       "      <td>500.0</td>\n",
       "      <td>0</td>\n",
       "      <td>INTERNET</td>\n",
       "      <td>5.502750</td>\n",
       "      <td>linux</td>\n",
       "      <td>0</td>\n",
       "      <td>1</td>\n",
       "      <td>0</td>\n",
       "      <td>3</td>\n",
       "    </tr>\n",
       "    <tr>\n",
       "      <th>3</th>\n",
       "      <td>0</td>\n",
       "      <td>0.9</td>\n",
       "      <td>0.388111</td>\n",
       "      <td>31</td>\n",
       "      <td>2</td>\n",
       "      <td>50</td>\n",
       "      <td>0.010480</td>\n",
       "      <td>-0.817218</td>\n",
       "      <td>AB</td>\n",
       "      <td>2676</td>\n",
       "      <td>...</td>\n",
       "      <td>1</td>\n",
       "      <td>1500.0</td>\n",
       "      <td>0</td>\n",
       "      <td>INTERNET</td>\n",
       "      <td>3.209488</td>\n",
       "      <td>windows</td>\n",
       "      <td>1</td>\n",
       "      <td>1</td>\n",
       "      <td>0</td>\n",
       "      <td>4</td>\n",
       "    </tr>\n",
       "    <tr>\n",
       "      <th>4</th>\n",
       "      <td>0</td>\n",
       "      <td>0.9</td>\n",
       "      <td>0.512189</td>\n",
       "      <td>-1</td>\n",
       "      <td>249</td>\n",
       "      <td>50</td>\n",
       "      <td>0.013239</td>\n",
       "      <td>-0.230889</td>\n",
       "      <td>AB</td>\n",
       "      <td>621</td>\n",
       "      <td>...</td>\n",
       "      <td>1</td>\n",
       "      <td>500.0</td>\n",
       "      <td>0</td>\n",
       "      <td>INTERNET</td>\n",
       "      <td>8.416212</td>\n",
       "      <td>other</td>\n",
       "      <td>1</td>\n",
       "      <td>1</td>\n",
       "      <td>0</td>\n",
       "      <td>7</td>\n",
       "    </tr>\n",
       "  </tbody>\n",
       "</table>\n",
       "<p>5 rows × 32 columns</p>\n",
       "</div>"
      ],
      "text/plain": [
       "   fraud_bool  income  name_email_similarity  prev_address_months_count  \\\n",
       "0           0     0.1               0.771248                         -1   \n",
       "1           0     0.9               0.868609                         -1   \n",
       "2           0     0.6               0.461974                         30   \n",
       "3           0     0.9               0.388111                         31   \n",
       "4           0     0.9               0.512189                         -1   \n",
       "\n",
       "   current_address_months_count  customer_age  days_since_request  \\\n",
       "0                           192            20            0.008449   \n",
       "1                             8            30            0.003503   \n",
       "2                             8            30            0.006326   \n",
       "3                             2            50            0.010480   \n",
       "4                           249            50            0.013239   \n",
       "\n",
       "   intended_balcon_amount payment_type  zip_count_4w  ...  has_other_cards  \\\n",
       "0               -1.050951           AB          2570  ...                0   \n",
       "1               -0.683337           AB          1081  ...                1   \n",
       "2               -0.916832           AB          2162  ...                0   \n",
       "3               -0.817218           AB          2676  ...                1   \n",
       "4               -0.230889           AB           621  ...                1   \n",
       "\n",
       "   proposed_credit_limit  foreign_request    source  \\\n",
       "0                 1500.0                0  INTERNET   \n",
       "1                  200.0                0  INTERNET   \n",
       "2                  500.0                0  INTERNET   \n",
       "3                 1500.0                0  INTERNET   \n",
       "4                  500.0                0  INTERNET   \n",
       "\n",
       "   session_length_in_minutes device_os  keep_alive_session  \\\n",
       "0                  37.831889   windows                   0   \n",
       "1                   1.610226     linux                   1   \n",
       "2                   5.502750     linux                   0   \n",
       "3                   3.209488   windows                   1   \n",
       "4                   8.416212     other                   1   \n",
       "\n",
       "   device_distinct_emails_8w device_fraud_count  month  \n",
       "0                          1                  0      2  \n",
       "1                          1                  0      6  \n",
       "2                          1                  0      3  \n",
       "3                          1                  0      4  \n",
       "4                          1                  0      7  \n",
       "\n",
       "[5 rows x 32 columns]"
      ]
     },
     "execution_count": 43,
     "metadata": {},
     "output_type": "execute_result"
    }
   ],
   "source": [
    "fraud_df.head()"
   ]
  },
  {
   "cell_type": "code",
   "execution_count": 44,
   "metadata": {},
   "outputs": [
    {
     "name": "stdout",
     "output_type": "stream",
     "text": [
      "<class 'pandas.core.frame.DataFrame'>\n",
      "RangeIndex: 200000 entries, 0 to 199999\n",
      "Data columns (total 32 columns):\n",
      " #   Column                            Non-Null Count   Dtype  \n",
      "---  ------                            --------------   -----  \n",
      " 0   fraud_bool                        200000 non-null  int64  \n",
      " 1   income                            200000 non-null  float64\n",
      " 2   name_email_similarity             200000 non-null  float64\n",
      " 3   prev_address_months_count         200000 non-null  int64  \n",
      " 4   current_address_months_count      200000 non-null  int64  \n",
      " 5   customer_age                      200000 non-null  int64  \n",
      " 6   days_since_request                200000 non-null  float64\n",
      " 7   intended_balcon_amount            200000 non-null  float64\n",
      " 8   payment_type                      200000 non-null  object \n",
      " 9   zip_count_4w                      200000 non-null  int64  \n",
      " 10  velocity_6h                       200000 non-null  float64\n",
      " 11  velocity_24h                      200000 non-null  float64\n",
      " 12  velocity_4w                       200000 non-null  float64\n",
      " 13  bank_branch_count_8w              200000 non-null  int64  \n",
      " 14  date_of_birth_distinct_emails_4w  200000 non-null  int64  \n",
      " 15  employment_status                 200000 non-null  object \n",
      " 16  credit_risk_score                 200000 non-null  int64  \n",
      " 17  email_is_free                     200000 non-null  int64  \n",
      " 18  housing_status                    200000 non-null  object \n",
      " 19  phone_home_valid                  200000 non-null  int64  \n",
      " 20  phone_mobile_valid                200000 non-null  int64  \n",
      " 21  bank_months_count                 200000 non-null  int64  \n",
      " 22  has_other_cards                   200000 non-null  int64  \n",
      " 23  proposed_credit_limit             200000 non-null  float64\n",
      " 24  foreign_request                   200000 non-null  int64  \n",
      " 25  source                            200000 non-null  object \n",
      " 26  session_length_in_minutes         200000 non-null  float64\n",
      " 27  device_os                         200000 non-null  object \n",
      " 28  keep_alive_session                200000 non-null  int64  \n",
      " 29  device_distinct_emails_8w         200000 non-null  int64  \n",
      " 30  device_fraud_count                200000 non-null  int64  \n",
      " 31  month                             200000 non-null  int64  \n",
      "dtypes: float64(9), int64(18), object(5)\n",
      "memory usage: 48.8+ MB\n"
     ]
    }
   ],
   "source": [
    "fraud_df.info()"
   ]
  },
  {
   "cell_type": "code",
   "execution_count": 45,
   "metadata": {},
   "outputs": [
    {
     "data": {
      "text/plain": [
       "Index(['fraud_bool', 'income', 'name_email_similarity',\n",
       "       'prev_address_months_count', 'current_address_months_count',\n",
       "       'customer_age', 'days_since_request', 'intended_balcon_amount',\n",
       "       'payment_type', 'zip_count_4w', 'velocity_6h', 'velocity_24h',\n",
       "       'velocity_4w', 'bank_branch_count_8w',\n",
       "       'date_of_birth_distinct_emails_4w', 'employment_status',\n",
       "       'credit_risk_score', 'email_is_free', 'housing_status',\n",
       "       'phone_home_valid', 'phone_mobile_valid', 'bank_months_count',\n",
       "       'has_other_cards', 'proposed_credit_limit', 'foreign_request', 'source',\n",
       "       'session_length_in_minutes', 'device_os', 'keep_alive_session',\n",
       "       'device_distinct_emails_8w', 'device_fraud_count', 'month'],\n",
       "      dtype='object')"
      ]
     },
     "execution_count": 45,
     "metadata": {},
     "output_type": "execute_result"
    }
   ],
   "source": [
    "fraud_df.columns"
   ]
  },
  {
   "cell_type": "code",
   "execution_count": 46,
   "metadata": {},
   "outputs": [
    {
     "data": {
      "text/plain": [
       "fraud_bool\n",
       "0    197768\n",
       "1      2232\n",
       "Name: count, dtype: int64"
      ]
     },
     "execution_count": 46,
     "metadata": {},
     "output_type": "execute_result"
    }
   ],
   "source": [
    "fraud_df['fraud_bool'].value_counts()"
   ]
  },
  {
   "cell_type": "code",
   "execution_count": 47,
   "metadata": {},
   "outputs": [
    {
     "name": "stdout",
     "output_type": "stream",
     "text": [
      "<class 'pandas.core.series.Series'>\n",
      "RangeIndex: 200000 entries, 0 to 199999\n",
      "Series name: fraud_bool\n",
      "Non-Null Count   Dtype\n",
      "--------------   -----\n",
      "200000 non-null  int64\n",
      "dtypes: int64(1)\n",
      "memory usage: 1.5 MB\n"
     ]
    },
    {
     "data": {
      "text/plain": [
       "'fraud_bool None'"
      ]
     },
     "metadata": {},
     "output_type": "display_data"
    },
    {
     "name": "stdout",
     "output_type": "stream",
     "text": [
      "<class 'pandas.core.series.Series'>\n",
      "RangeIndex: 200000 entries, 0 to 199999\n",
      "Series name: income\n",
      "Non-Null Count   Dtype  \n",
      "--------------   -----  \n",
      "200000 non-null  float64\n",
      "dtypes: float64(1)\n",
      "memory usage: 1.5 MB\n"
     ]
    },
    {
     "data": {
      "text/plain": [
       "'income None'"
      ]
     },
     "metadata": {},
     "output_type": "display_data"
    },
    {
     "name": "stdout",
     "output_type": "stream",
     "text": [
      "<class 'pandas.core.series.Series'>\n",
      "RangeIndex: 200000 entries, 0 to 199999\n",
      "Series name: name_email_similarity\n",
      "Non-Null Count   Dtype  \n",
      "--------------   -----  \n",
      "200000 non-null  float64\n",
      "dtypes: float64(1)\n",
      "memory usage: 1.5 MB\n"
     ]
    },
    {
     "data": {
      "text/plain": [
       "'name_email_similarity None'"
      ]
     },
     "metadata": {},
     "output_type": "display_data"
    },
    {
     "name": "stdout",
     "output_type": "stream",
     "text": [
      "<class 'pandas.core.series.Series'>\n",
      "RangeIndex: 200000 entries, 0 to 199999\n",
      "Series name: prev_address_months_count\n",
      "Non-Null Count   Dtype\n",
      "--------------   -----\n",
      "200000 non-null  int64\n",
      "dtypes: int64(1)\n",
      "memory usage: 1.5 MB\n"
     ]
    },
    {
     "data": {
      "text/plain": [
       "'prev_address_months_count None'"
      ]
     },
     "metadata": {},
     "output_type": "display_data"
    },
    {
     "name": "stdout",
     "output_type": "stream",
     "text": [
      "<class 'pandas.core.series.Series'>\n",
      "RangeIndex: 200000 entries, 0 to 199999\n",
      "Series name: current_address_months_count\n",
      "Non-Null Count   Dtype\n",
      "--------------   -----\n",
      "200000 non-null  int64\n",
      "dtypes: int64(1)\n",
      "memory usage: 1.5 MB\n"
     ]
    },
    {
     "data": {
      "text/plain": [
       "'current_address_months_count None'"
      ]
     },
     "metadata": {},
     "output_type": "display_data"
    },
    {
     "name": "stdout",
     "output_type": "stream",
     "text": [
      "<class 'pandas.core.series.Series'>\n",
      "RangeIndex: 200000 entries, 0 to 199999\n",
      "Series name: customer_age\n",
      "Non-Null Count   Dtype\n",
      "--------------   -----\n",
      "200000 non-null  int64\n",
      "dtypes: int64(1)\n",
      "memory usage: 1.5 MB\n"
     ]
    },
    {
     "data": {
      "text/plain": [
       "'customer_age None'"
      ]
     },
     "metadata": {},
     "output_type": "display_data"
    },
    {
     "name": "stdout",
     "output_type": "stream",
     "text": [
      "<class 'pandas.core.series.Series'>\n",
      "RangeIndex: 200000 entries, 0 to 199999\n",
      "Series name: days_since_request\n",
      "Non-Null Count   Dtype  \n",
      "--------------   -----  \n",
      "200000 non-null  float64\n",
      "dtypes: float64(1)\n",
      "memory usage: 1.5 MB\n"
     ]
    },
    {
     "data": {
      "text/plain": [
       "'days_since_request None'"
      ]
     },
     "metadata": {},
     "output_type": "display_data"
    },
    {
     "name": "stdout",
     "output_type": "stream",
     "text": [
      "<class 'pandas.core.series.Series'>\n",
      "RangeIndex: 200000 entries, 0 to 199999\n",
      "Series name: intended_balcon_amount\n",
      "Non-Null Count   Dtype  \n",
      "--------------   -----  \n",
      "200000 non-null  float64\n",
      "dtypes: float64(1)\n",
      "memory usage: 1.5 MB\n"
     ]
    },
    {
     "data": {
      "text/plain": [
       "'intended_balcon_amount None'"
      ]
     },
     "metadata": {},
     "output_type": "display_data"
    },
    {
     "name": "stdout",
     "output_type": "stream",
     "text": [
      "<class 'pandas.core.series.Series'>\n",
      "RangeIndex: 200000 entries, 0 to 199999\n",
      "Series name: payment_type\n",
      "Non-Null Count   Dtype \n",
      "--------------   ----- \n",
      "200000 non-null  object\n",
      "dtypes: object(1)\n",
      "memory usage: 1.5+ MB\n"
     ]
    },
    {
     "data": {
      "text/plain": [
       "'payment_type None'"
      ]
     },
     "metadata": {},
     "output_type": "display_data"
    },
    {
     "name": "stdout",
     "output_type": "stream",
     "text": [
      "<class 'pandas.core.series.Series'>\n",
      "RangeIndex: 200000 entries, 0 to 199999\n",
      "Series name: zip_count_4w\n",
      "Non-Null Count   Dtype\n",
      "--------------   -----\n",
      "200000 non-null  int64\n",
      "dtypes: int64(1)\n",
      "memory usage: 1.5 MB\n"
     ]
    },
    {
     "data": {
      "text/plain": [
       "'zip_count_4w None'"
      ]
     },
     "metadata": {},
     "output_type": "display_data"
    },
    {
     "name": "stdout",
     "output_type": "stream",
     "text": [
      "<class 'pandas.core.series.Series'>\n",
      "RangeIndex: 200000 entries, 0 to 199999\n",
      "Series name: velocity_6h\n",
      "Non-Null Count   Dtype  \n",
      "--------------   -----  \n",
      "200000 non-null  float64\n",
      "dtypes: float64(1)\n",
      "memory usage: 1.5 MB\n"
     ]
    },
    {
     "data": {
      "text/plain": [
       "'velocity_6h None'"
      ]
     },
     "metadata": {},
     "output_type": "display_data"
    },
    {
     "name": "stdout",
     "output_type": "stream",
     "text": [
      "<class 'pandas.core.series.Series'>\n",
      "RangeIndex: 200000 entries, 0 to 199999\n",
      "Series name: velocity_24h\n",
      "Non-Null Count   Dtype  \n",
      "--------------   -----  \n",
      "200000 non-null  float64\n",
      "dtypes: float64(1)\n",
      "memory usage: 1.5 MB\n"
     ]
    },
    {
     "data": {
      "text/plain": [
       "'velocity_24h None'"
      ]
     },
     "metadata": {},
     "output_type": "display_data"
    },
    {
     "name": "stdout",
     "output_type": "stream",
     "text": [
      "<class 'pandas.core.series.Series'>\n",
      "RangeIndex: 200000 entries, 0 to 199999\n",
      "Series name: velocity_4w\n",
      "Non-Null Count   Dtype  \n",
      "--------------   -----  \n",
      "200000 non-null  float64\n",
      "dtypes: float64(1)\n",
      "memory usage: 1.5 MB\n"
     ]
    },
    {
     "data": {
      "text/plain": [
       "'velocity_4w None'"
      ]
     },
     "metadata": {},
     "output_type": "display_data"
    },
    {
     "name": "stdout",
     "output_type": "stream",
     "text": [
      "<class 'pandas.core.series.Series'>\n",
      "RangeIndex: 200000 entries, 0 to 199999\n",
      "Series name: bank_branch_count_8w\n",
      "Non-Null Count   Dtype\n",
      "--------------   -----\n",
      "200000 non-null  int64\n",
      "dtypes: int64(1)\n",
      "memory usage: 1.5 MB\n"
     ]
    },
    {
     "data": {
      "text/plain": [
       "'bank_branch_count_8w None'"
      ]
     },
     "metadata": {},
     "output_type": "display_data"
    },
    {
     "name": "stdout",
     "output_type": "stream",
     "text": [
      "<class 'pandas.core.series.Series'>\n",
      "RangeIndex: 200000 entries, 0 to 199999\n",
      "Series name: date_of_birth_distinct_emails_4w\n",
      "Non-Null Count   Dtype\n",
      "--------------   -----\n",
      "200000 non-null  int64\n",
      "dtypes: int64(1)\n",
      "memory usage: 1.5 MB\n"
     ]
    },
    {
     "data": {
      "text/plain": [
       "'date_of_birth_distinct_emails_4w None'"
      ]
     },
     "metadata": {},
     "output_type": "display_data"
    },
    {
     "name": "stdout",
     "output_type": "stream",
     "text": [
      "<class 'pandas.core.series.Series'>\n",
      "RangeIndex: 200000 entries, 0 to 199999\n",
      "Series name: employment_status\n",
      "Non-Null Count   Dtype \n",
      "--------------   ----- \n",
      "200000 non-null  object\n",
      "dtypes: object(1)\n",
      "memory usage: 1.5+ MB\n"
     ]
    },
    {
     "data": {
      "text/plain": [
       "'employment_status None'"
      ]
     },
     "metadata": {},
     "output_type": "display_data"
    },
    {
     "name": "stdout",
     "output_type": "stream",
     "text": [
      "<class 'pandas.core.series.Series'>\n",
      "RangeIndex: 200000 entries, 0 to 199999\n",
      "Series name: credit_risk_score\n",
      "Non-Null Count   Dtype\n",
      "--------------   -----\n",
      "200000 non-null  int64\n",
      "dtypes: int64(1)\n",
      "memory usage: 1.5 MB\n"
     ]
    },
    {
     "data": {
      "text/plain": [
       "'credit_risk_score None'"
      ]
     },
     "metadata": {},
     "output_type": "display_data"
    },
    {
     "name": "stdout",
     "output_type": "stream",
     "text": [
      "<class 'pandas.core.series.Series'>\n",
      "RangeIndex: 200000 entries, 0 to 199999\n",
      "Series name: email_is_free\n",
      "Non-Null Count   Dtype\n",
      "--------------   -----\n",
      "200000 non-null  int64\n",
      "dtypes: int64(1)\n",
      "memory usage: 1.5 MB\n"
     ]
    },
    {
     "data": {
      "text/plain": [
       "'email_is_free None'"
      ]
     },
     "metadata": {},
     "output_type": "display_data"
    },
    {
     "name": "stdout",
     "output_type": "stream",
     "text": [
      "<class 'pandas.core.series.Series'>\n",
      "RangeIndex: 200000 entries, 0 to 199999\n",
      "Series name: housing_status\n",
      "Non-Null Count   Dtype \n",
      "--------------   ----- \n",
      "200000 non-null  object\n",
      "dtypes: object(1)\n",
      "memory usage: 1.5+ MB\n"
     ]
    },
    {
     "data": {
      "text/plain": [
       "'housing_status None'"
      ]
     },
     "metadata": {},
     "output_type": "display_data"
    },
    {
     "name": "stdout",
     "output_type": "stream",
     "text": [
      "<class 'pandas.core.series.Series'>\n",
      "RangeIndex: 200000 entries, 0 to 199999\n",
      "Series name: phone_home_valid\n",
      "Non-Null Count   Dtype\n",
      "--------------   -----\n",
      "200000 non-null  int64\n",
      "dtypes: int64(1)\n",
      "memory usage: 1.5 MB\n"
     ]
    },
    {
     "data": {
      "text/plain": [
       "'phone_home_valid None'"
      ]
     },
     "metadata": {},
     "output_type": "display_data"
    },
    {
     "name": "stdout",
     "output_type": "stream",
     "text": [
      "<class 'pandas.core.series.Series'>\n",
      "RangeIndex: 200000 entries, 0 to 199999\n",
      "Series name: phone_mobile_valid\n",
      "Non-Null Count   Dtype\n",
      "--------------   -----\n",
      "200000 non-null  int64\n",
      "dtypes: int64(1)\n",
      "memory usage: 1.5 MB\n"
     ]
    },
    {
     "data": {
      "text/plain": [
       "'phone_mobile_valid None'"
      ]
     },
     "metadata": {},
     "output_type": "display_data"
    },
    {
     "name": "stdout",
     "output_type": "stream",
     "text": [
      "<class 'pandas.core.series.Series'>\n",
      "RangeIndex: 200000 entries, 0 to 199999\n",
      "Series name: bank_months_count\n",
      "Non-Null Count   Dtype\n",
      "--------------   -----\n",
      "200000 non-null  int64\n",
      "dtypes: int64(1)\n",
      "memory usage: 1.5 MB\n"
     ]
    },
    {
     "data": {
      "text/plain": [
       "'bank_months_count None'"
      ]
     },
     "metadata": {},
     "output_type": "display_data"
    },
    {
     "name": "stdout",
     "output_type": "stream",
     "text": [
      "<class 'pandas.core.series.Series'>\n",
      "RangeIndex: 200000 entries, 0 to 199999\n",
      "Series name: has_other_cards\n",
      "Non-Null Count   Dtype\n",
      "--------------   -----\n",
      "200000 non-null  int64\n",
      "dtypes: int64(1)\n",
      "memory usage: 1.5 MB\n"
     ]
    },
    {
     "data": {
      "text/plain": [
       "'has_other_cards None'"
      ]
     },
     "metadata": {},
     "output_type": "display_data"
    },
    {
     "name": "stdout",
     "output_type": "stream",
     "text": [
      "<class 'pandas.core.series.Series'>\n",
      "RangeIndex: 200000 entries, 0 to 199999\n",
      "Series name: proposed_credit_limit\n",
      "Non-Null Count   Dtype  \n",
      "--------------   -----  \n",
      "200000 non-null  float64\n",
      "dtypes: float64(1)\n",
      "memory usage: 1.5 MB\n"
     ]
    },
    {
     "data": {
      "text/plain": [
       "'proposed_credit_limit None'"
      ]
     },
     "metadata": {},
     "output_type": "display_data"
    },
    {
     "name": "stdout",
     "output_type": "stream",
     "text": [
      "<class 'pandas.core.series.Series'>\n",
      "RangeIndex: 200000 entries, 0 to 199999\n",
      "Series name: foreign_request\n",
      "Non-Null Count   Dtype\n",
      "--------------   -----\n",
      "200000 non-null  int64\n",
      "dtypes: int64(1)\n",
      "memory usage: 1.5 MB\n"
     ]
    },
    {
     "data": {
      "text/plain": [
       "'foreign_request None'"
      ]
     },
     "metadata": {},
     "output_type": "display_data"
    },
    {
     "name": "stdout",
     "output_type": "stream",
     "text": [
      "<class 'pandas.core.series.Series'>\n",
      "RangeIndex: 200000 entries, 0 to 199999\n",
      "Series name: source\n",
      "Non-Null Count   Dtype \n",
      "--------------   ----- \n",
      "200000 non-null  object\n",
      "dtypes: object(1)\n",
      "memory usage: 1.5+ MB\n"
     ]
    },
    {
     "data": {
      "text/plain": [
       "'source None'"
      ]
     },
     "metadata": {},
     "output_type": "display_data"
    },
    {
     "name": "stdout",
     "output_type": "stream",
     "text": [
      "<class 'pandas.core.series.Series'>\n",
      "RangeIndex: 200000 entries, 0 to 199999\n",
      "Series name: session_length_in_minutes\n",
      "Non-Null Count   Dtype  \n",
      "--------------   -----  \n",
      "200000 non-null  float64\n",
      "dtypes: float64(1)\n",
      "memory usage: 1.5 MB\n"
     ]
    },
    {
     "data": {
      "text/plain": [
       "'session_length_in_minutes None'"
      ]
     },
     "metadata": {},
     "output_type": "display_data"
    },
    {
     "name": "stdout",
     "output_type": "stream",
     "text": [
      "<class 'pandas.core.series.Series'>\n",
      "RangeIndex: 200000 entries, 0 to 199999\n",
      "Series name: device_os\n",
      "Non-Null Count   Dtype \n",
      "--------------   ----- \n",
      "200000 non-null  object\n",
      "dtypes: object(1)\n",
      "memory usage: 1.5+ MB\n"
     ]
    },
    {
     "data": {
      "text/plain": [
       "'device_os None'"
      ]
     },
     "metadata": {},
     "output_type": "display_data"
    },
    {
     "name": "stdout",
     "output_type": "stream",
     "text": [
      "<class 'pandas.core.series.Series'>\n",
      "RangeIndex: 200000 entries, 0 to 199999\n",
      "Series name: keep_alive_session\n",
      "Non-Null Count   Dtype\n",
      "--------------   -----\n",
      "200000 non-null  int64\n",
      "dtypes: int64(1)\n",
      "memory usage: 1.5 MB\n"
     ]
    },
    {
     "data": {
      "text/plain": [
       "'keep_alive_session None'"
      ]
     },
     "metadata": {},
     "output_type": "display_data"
    },
    {
     "name": "stdout",
     "output_type": "stream",
     "text": [
      "<class 'pandas.core.series.Series'>\n",
      "RangeIndex: 200000 entries, 0 to 199999\n",
      "Series name: device_distinct_emails_8w\n",
      "Non-Null Count   Dtype\n",
      "--------------   -----\n",
      "200000 non-null  int64\n",
      "dtypes: int64(1)\n",
      "memory usage: 1.5 MB\n"
     ]
    },
    {
     "data": {
      "text/plain": [
       "'device_distinct_emails_8w None'"
      ]
     },
     "metadata": {},
     "output_type": "display_data"
    },
    {
     "name": "stdout",
     "output_type": "stream",
     "text": [
      "<class 'pandas.core.series.Series'>\n",
      "RangeIndex: 200000 entries, 0 to 199999\n",
      "Series name: device_fraud_count\n",
      "Non-Null Count   Dtype\n",
      "--------------   -----\n",
      "200000 non-null  int64\n",
      "dtypes: int64(1)\n",
      "memory usage: 1.5 MB\n"
     ]
    },
    {
     "data": {
      "text/plain": [
       "'device_fraud_count None'"
      ]
     },
     "metadata": {},
     "output_type": "display_data"
    },
    {
     "name": "stdout",
     "output_type": "stream",
     "text": [
      "<class 'pandas.core.series.Series'>\n",
      "RangeIndex: 200000 entries, 0 to 199999\n",
      "Series name: month\n",
      "Non-Null Count   Dtype\n",
      "--------------   -----\n",
      "200000 non-null  int64\n",
      "dtypes: int64(1)\n",
      "memory usage: 1.5 MB\n"
     ]
    },
    {
     "data": {
      "text/plain": [
       "'month None'"
      ]
     },
     "metadata": {},
     "output_type": "display_data"
    }
   ],
   "source": [
    "for i in fraud_df.columns:\n",
    "    display(f\"{i} {fraud_df[i].info()}\")"
   ]
  },
  {
   "cell_type": "code",
   "execution_count": null,
   "metadata": {},
   "outputs": [],
   "source": []
  }
 ],
 "metadata": {
  "kernelspec": {
   "display_name": "dev",
   "language": "python",
   "name": "python3"
  },
  "language_info": {
   "codemirror_mode": {
    "name": "ipython",
    "version": 3
   },
   "file_extension": ".py",
   "mimetype": "text/x-python",
   "name": "python",
   "nbconvert_exporter": "python",
   "pygments_lexer": "ipython3",
   "version": "3.10.14"
  }
 },
 "nbformat": 4,
 "nbformat_minor": 2
}
